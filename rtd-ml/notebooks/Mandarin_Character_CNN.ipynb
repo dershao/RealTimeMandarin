{
 "cells": [
  {
   "cell_type": "code",
   "execution_count": 0,
   "metadata": {
    "colab": {},
    "colab_type": "code",
    "id": "mMdnKoI-3h_I"
   },
   "outputs": [],
   "source": [
    "import tensorflow as tf\n",
    "device_name = tf.test.gpu_device_name()\n",
    "print('Found GPU at: {}'.format(device_name))"
   ]
  },
  {
   "cell_type": "code",
   "execution_count": 0,
   "metadata": {
    "colab": {},
    "colab_type": "code",
    "id": "JXb79zZJBPAd"
   },
   "outputs": [],
   "source": [
    "import numpy as np\n",
    "import pandas as pd\n",
    "import matplotlib.pyplot as plt\n",
    "import cv2"
   ]
  },
  {
   "cell_type": "markdown",
   "metadata": {},
   "source": [
    "#### Loading data\n",
    "\n",
    "Dataset can be found here: http://www.nlpr.ia.ac.cn/databases/handwriting/Home.html"
   ]
  },
  {
   "cell_type": "code",
   "execution_count": null,
   "metadata": {},
   "outputs": [],
   "source": [
    "images = np.load(\"/content/drive/My Drive/RealTimeMandarin/train_images.npy\", allow_pickle=True)\n",
    "labels = np.load(\"/content/drive/My Drive/RealTimeMandarin/train_labels.npy\", allow_pickle=True)"
   ]
  },
  {
   "cell_type": "code",
   "execution_count": 0,
   "metadata": {
    "colab": {},
    "colab_type": "code",
    "id": "jp-xiTLMN_DY"
   },
   "outputs": [],
   "source": [
    "val_images = np.load(\"/content/drive/My Drive/RealTimeMandarin/val_images.npy\", allow_pickle=True)\n",
    "val_labels = np.load(\"/content/drive/My Drive/RealTimeMandarin/val_labels.npy\", allow_pickle=True)"
   ]
  },
  {
   "cell_type": "code",
   "execution_count": 0,
   "metadata": {
    "colab": {},
    "colab_type": "code",
    "id": "uISMo6ivlvoK"
   },
   "outputs": [],
   "source": [
    "test_images = np.load(\"/content/drive/My Drive/RealTimeMandarin/test_images.npy\", allow_pickle=True)\n",
    "test_labels = np.load(\"/content/drive/My Drive/RealTimeMandarin/test_labels.npy\", allow_pickle=True)"
   ]
  },
  {
   "cell_type": "markdown",
   "metadata": {},
   "source": [
    "#### Preprocessing\n",
    "\n",
    "Images in the CASIA dataset are all of different sizes, therefore first resize all images to the same height/width using opencv (not shown here)"
   ]
  },
  {
   "cell_type": "code",
   "execution_count": 0,
   "metadata": {
    "colab": {},
    "colab_type": "code",
    "id": "uMwgFxE-DDN8"
   },
   "outputs": [],
   "source": [
    "def resize_image(img, height=128, width=128):\n",
    "    \"\"\"\n",
    "        Resizes image to the desired height and width\n",
    "    \"\"\"\n",
    "    return cv2.resize(img, (height, width), interpolation=cv2.INTER_AREA)"
   ]
  },
  {
   "cell_type": "markdown",
   "metadata": {},
   "source": [
    "Currently I'm starting out with ten characters that I have chosen from the dataset stored as a numpy array."
   ]
  },
  {
   "cell_type": "code",
   "execution_count": 0,
   "metadata": {
    "colab": {},
    "colab_type": "code",
    "id": "QJQcT8aih-rn"
   },
   "outputs": [],
   "source": [
    "ten_classes = np.load(\"/content/drive/My Drive/RealTimeMandarin/10.npy\").astype('int32')"
   ]
  },
  {
   "cell_type": "code",
   "execution_count": 0,
   "metadata": {
    "colab": {},
    "colab_type": "code",
    "id": "V5p4LnqmiD1j"
   },
   "outputs": [],
   "source": [
    "selected_train = labels[np.where(np.isin(labels, ten_classes))].astype('int32')\n",
    "selected_val = val_labels[np.where(np.isin(val_labels, ten_classes))].astype('int32')\n",
    "selected_test = test_labels[np.where(np.isin(test_labels, ten_classes))].astype('int32')\n",
    "\n",
    "val_images = val_images[selected_val]\n",
    "val_labels = val_labels[selected_val]\n",
    "images = images[selected_train]\n",
    "labels = labels[selected_train]\n",
    "test_images = test_images[selected_test]\n",
    "test_labels = test_labels[selected_test]"
   ]
  },
  {
   "cell_type": "code",
   "execution_count": 0,
   "metadata": {
    "colab": {},
    "colab_type": "code",
    "id": "rCiLgeI1R4eM"
   },
   "outputs": [],
   "source": [
    "labels = labels.astype('int32')\n",
    "val_labels = val_labels.astype('int32')\n",
    "test_labels = test_labels.astype('int32')"
   ]
  },
  {
   "cell_type": "markdown",
   "metadata": {},
   "source": [
    "Since all the images were all different sizes, I recreate the numpy array and reshape to have 4-dimmensional data which is what the Convolutional Neural Network expects"
   ]
  },
  {
   "cell_type": "code",
   "execution_count": 0,
   "metadata": {
    "colab": {},
    "colab_type": "code",
    "id": "ashUVjMyP6LX"
   },
   "outputs": [],
   "source": [
    "train = []\n",
    "val = []\n",
    "test = []\n",
    "\n",
    "for i in range(len(images)):\n",
    "    train.append(images[i])\n",
    "\n",
    "for i in range(len(test_images)):\n",
    "    test.append(test_images[i])\n",
    "\n",
    "for i in range(len(val_images)):\n",
    "    val.append(val_images[i])\n",
    "    \n",
    "X_train = np.concatenate(train).reshape(len(train), 128, 128, 1)\n",
    "X_val = np.concatenate(val).reshape(len(val), 128, 128, 1)\n",
    "X_test = np.concatenate(test).reshape(len(test), 128, 128, 1)"
   ]
  },
  {
   "cell_type": "markdown",
   "metadata": {},
   "source": [
    "Normalize the input between 0 and 1"
   ]
  },
  {
   "cell_type": "code",
   "execution_count": 0,
   "metadata": {
    "colab": {},
    "colab_type": "code",
    "id": "zWATlbZUDYyt"
   },
   "outputs": [],
   "source": [
    "X_train = X_train / 255\n",
    "X_test = X_test / 255\n",
    "X_val = X_val / 255"
   ]
  },
  {
   "cell_type": "markdown",
   "metadata": {},
   "source": [
    "Example of an image found in the dataset"
   ]
  },
  {
   "cell_type": "code",
   "execution_count": 0,
   "metadata": {
    "colab": {
     "base_uri": "https://localhost:8080/",
     "height": 268
    },
    "colab_type": "code",
    "id": "e0a8pWH4FU7W",
    "outputId": "5556ad03-ccf0-476e-f427-3f8f738c8a19",
    "scrolled": true
   },
   "outputs": [
    {
     "data": {
      "image/png": "[encoded data removed]",
      "text/plain": [
       "<Figure size 432x288 with 1 Axes>"
      ]
     },
     "metadata": {
      "tags": []
     },
     "output_type": "display_data"
    }
   ],
   "source": [
    "plt.imshow(X_train[2100].reshape(128, 128), cmap='gray')\n",
    "plt.show()"
   ]
  },
  {
   "cell_type": "markdown",
   "metadata": {},
   "source": [
    "One Hot Encode labels"
   ]
  },
  {
   "cell_type": "code",
   "execution_count": 0,
   "metadata": {
    "colab": {
     "base_uri": "https://localhost:8080/",
     "height": 52
    },
    "colab_type": "code",
    "id": "H92m5ULBLYIK",
    "outputId": "8de6232a-b411-4966-b45e-793da2946f60"
   },
   "outputs": [
    {
     "data": {
      "text/plain": [
       "OneHotEncoder(categories='auto', drop=None, dtype=<class 'numpy.float64'>,\n",
       "              handle_unknown='error', sparse=True)"
      ]
     },
     "execution_count": 43,
     "metadata": {
      "tags": []
     },
     "output_type": "execute_result"
    }
   ],
   "source": [
    "from sklearn.preprocessing import OneHotEncoder\n",
    "\n",
    "ohe = OneHotEncoder()\n",
    "\n",
    "ohe.fit(labels.reshape(-1, 1))"
   ]
  },
  {
   "cell_type": "markdown",
   "metadata": {},
   "source": [
    "I store the One Hot encoder which is useful for debugging later"
   ]
  },
  {
   "cell_type": "code",
   "execution_count": 0,
   "metadata": {
    "colab": {},
    "colab_type": "code",
    "id": "V5Q86aQOikws"
   },
   "outputs": [],
   "source": [
    "import pickle\n",
    "with open('/content/drive/My Drive/RealTimeMandarin/ohe_ten_classes.save', \"wb\") as f:\n",
    "    pickle.dump(ohe, f)"
   ]
  },
  {
   "cell_type": "code",
   "execution_count": 0,
   "metadata": {
    "colab": {},
    "colab_type": "code",
    "id": "7Q5Lkhd0em-q"
   },
   "outputs": [],
   "source": [
    "y_train = ohe.transform(labels.reshape(-1, 1))\n",
    "y_test = ohe.transform(test_labels.reshape(-1, 1))\n",
    "y_val = ohe.transform(val_labels.reshape(-1, 1))"
   ]
  },
  {
   "cell_type": "markdown",
   "metadata": {},
   "source": [
    "#### Training"
   ]
  },
  {
   "cell_type": "code",
   "execution_count": 0,
   "metadata": {
    "colab": {
     "base_uri": "https://localhost:8080/",
     "height": 34
    },
    "colab_type": "code",
    "id": "xXDwdTPbeVyw",
    "outputId": "93dc3d25-be9b-4c96-a5a9-948f71603bb5"
   },
   "outputs": [
    {
     "name": "stderr",
     "output_type": "stream",
     "text": [
      "Using TensorFlow backend.\n"
     ]
    }
   ],
   "source": [
    "import keras\n",
    "from keras.models import Sequential\n",
    "from keras.layers import Dense, Dropout, Flatten\n",
    "from keras.layers import Conv2D, MaxPooling2D\n",
    "from keras import backend as K\n",
    "from keras.callbacks import EarlyStopping"
   ]
  },
  {
   "cell_type": "code",
   "execution_count": 0,
   "metadata": {
    "colab": {},
    "colab_type": "code",
    "id": "Gh382_NseoN6"
   },
   "outputs": [],
   "source": [
    "model = Sequential()\n",
    "model.add(Conv2D(32, kernel_size=(3, 3), activation='relu', input_shape=(128, 128, 1)))\n",
    "model.add(MaxPooling2D(pool_size=(2, 2)))\n",
    "model.add(Conv2D(64, kernel_size=(3, 3), activation='relu'))\n",
    "model.add(MaxPooling2D(pool_size=(2, 2)))\n",
    "model.add(Flatten())\n",
    "model.add(Dense(256))\n",
    "model.add(Dropout(rate=0.25))\n",
    "model.add(Dense(256))\n",
    "model.add(Dropout(rate=0.25))\n",
    "model.add(Dense(10, activation='softmax'))"
   ]
  },
  {
   "cell_type": "code",
   "execution_count": 0,
   "metadata": {
    "colab": {},
    "colab_type": "code",
    "id": "wRURY7cPFh2G"
   },
   "outputs": [],
   "source": [
    "model.compile(loss=keras.losses.categorical_crossentropy, optimizer=keras.optimizers.Adam(lr=0.001), metrics=['accuracy'])"
   ]
  },
  {
   "cell_type": "code",
   "execution_count": 0,
   "metadata": {
    "colab": {
     "base_uri": "https://localhost:8080/",
     "height": 826
    },
    "colab_type": "code",
    "id": "P43M7EP271qd",
    "outputId": "c51e3a29-8512-4472-dfd9-4978d23c791a"
   },
   "outputs": [
    {
     "name": "stdout",
     "output_type": "stream",
     "text": [
      "Train on 2153 samples, validate on 238 samples\n",
      "Epoch 1/100\n",
      "2153/2153 [==============================] - 2s 739us/step - loss: 6.0670 - acc: 0.1677 - val_loss: 2.0720 - val_acc: 0.6639\n",
      "Epoch 2/100\n",
      "2153/2153 [==============================] - 1s 271us/step - loss: 1.8355 - acc: 0.7176 - val_loss: 1.3956 - val_acc: 0.7899\n",
      "Epoch 3/100\n",
      "2153/2153 [==============================] - 1s 272us/step - loss: 1.1640 - acc: 0.8040 - val_loss: 0.7375 - val_acc: 0.8739\n",
      "Epoch 4/100\n",
      "2153/2153 [==============================] - 1s 276us/step - loss: 0.6244 - acc: 0.8788 - val_loss: 0.4069 - val_acc: 0.9076\n",
      "Epoch 5/100\n",
      "2153/2153 [==============================] - 1s 282us/step - loss: 0.3647 - acc: 0.9043 - val_loss: 0.2831 - val_acc: 0.9160\n",
      "Epoch 6/100\n",
      "2153/2153 [==============================] - 1s 277us/step - loss: 0.2364 - acc: 0.9322 - val_loss: 0.2344 - val_acc: 0.9244\n",
      "Epoch 7/100\n",
      "2153/2153 [==============================] - 1s 270us/step - loss: 0.1556 - acc: 0.9610 - val_loss: 0.2143 - val_acc: 0.9370\n",
      "Epoch 8/100\n",
      "2153/2153 [==============================] - 1s 274us/step - loss: 0.1083 - acc: 0.9758 - val_loss: 0.2122 - val_acc: 0.9454\n",
      "Epoch 9/100\n",
      "2153/2153 [==============================] - 1s 275us/step - loss: 0.0718 - acc: 0.9875 - val_loss: 0.2058 - val_acc: 0.9412\n",
      "Epoch 10/100\n",
      "2153/2153 [==============================] - 1s 270us/step - loss: 0.0520 - acc: 0.9930 - val_loss: 0.2097 - val_acc: 0.9412\n",
      "Epoch 11/100\n",
      "2153/2153 [==============================] - 1s 271us/step - loss: 0.0361 - acc: 0.9949 - val_loss: 0.2032 - val_acc: 0.9412\n",
      "Epoch 12/100\n",
      "2153/2153 [==============================] - 1s 273us/step - loss: 0.0259 - acc: 0.9991 - val_loss: 0.1985 - val_acc: 0.9496\n",
      "Epoch 13/100\n",
      "2153/2153 [==============================] - 1s 271us/step - loss: 0.0196 - acc: 1.0000 - val_loss: 0.2068 - val_acc: 0.9370\n",
      "Epoch 14/100\n",
      "2153/2153 [==============================] - 1s 270us/step - loss: 0.0134 - acc: 1.0000 - val_loss: 0.2192 - val_acc: 0.9286\n",
      "Epoch 15/100\n",
      "2153/2153 [==============================] - 1s 270us/step - loss: 0.0115 - acc: 0.9995 - val_loss: 0.2141 - val_acc: 0.9412\n",
      "Epoch 16/100\n",
      "2153/2153 [==============================] - 1s 270us/step - loss: 0.0097 - acc: 1.0000 - val_loss: 0.2170 - val_acc: 0.9370\n",
      "Epoch 17/100\n",
      "2153/2153 [==============================] - 1s 272us/step - loss: 0.0078 - acc: 0.9995 - val_loss: 0.2061 - val_acc: 0.9412\n",
      "Epoch 18/100\n",
      "2153/2153 [==============================] - 1s 276us/step - loss: 0.0062 - acc: 1.0000 - val_loss: 0.2196 - val_acc: 0.9412\n",
      "Epoch 19/100\n",
      "2153/2153 [==============================] - 1s 274us/step - loss: 0.0055 - acc: 1.0000 - val_loss: 0.2207 - val_acc: 0.9454\n",
      "Epoch 20/100\n",
      "2153/2153 [==============================] - 1s 274us/step - loss: 0.0049 - acc: 1.0000 - val_loss: 0.2265 - val_acc: 0.9454\n",
      "Epoch 21/100\n",
      "2153/2153 [==============================] - 1s 272us/step - loss: 0.0050 - acc: 0.9995 - val_loss: 0.2338 - val_acc: 0.9412\n",
      "Epoch 22/100\n",
      "2153/2153 [==============================] - 1s 273us/step - loss: 0.0057 - acc: 1.0000 - val_loss: 0.2302 - val_acc: 0.9412\n"
     ]
    },
    {
     "data": {
      "text/plain": [
       "<keras.callbacks.History at 0x7feafd19b1d0>"
      ]
     },
     "execution_count": 59,
     "metadata": {
      "tags": []
     },
     "output_type": "execute_result"
    }
   ],
   "source": [
    "# early stopping callback\n",
    "es = EarlyStopping(monitor='val_loss', mode='min', patience=10)\n",
    "model.fit(X_train, y_train, validation_data=(X_val, y_val), epochs=100, verbose=1, batch_size=256, callbacks=[es])"
   ]
  },
  {
   "cell_type": "code",
   "execution_count": 0,
   "metadata": {
    "colab": {
     "base_uri": "https://localhost:8080/",
     "height": 52
    },
    "colab_type": "code",
    "id": "GS9IEjs076B9",
    "outputId": "e648a0bf-3a67-496b-ec56-c38a9f587764"
   },
   "outputs": [
    {
     "name": "stdout",
     "output_type": "stream",
     "text": [
      "600/600 [==============================] - 0s 232us/step\n"
     ]
    },
    {
     "data": {
      "text/plain": [
       "[0.31913396100203195, 0.9116666674613952]"
      ]
     },
     "execution_count": 60,
     "metadata": {
      "tags": []
     },
     "output_type": "execute_result"
    }
   ],
   "source": [
    "model.evaluate(X_test, y_test)"
   ]
  }
 ],
 "metadata": {
  "accelerator": "GPU",
  "colab": {
   "collapsed_sections": [],
   "machine_shape": "hm",
   "name": "Mandarin-character-CNN",
   "provenance": []
  },
  "kernelspec": {
   "display_name": "Python 3",
   "language": "python",
   "name": "python3"
  },
  "language_info": {
   "codemirror_mode": {
    "name": "ipython",
    "version": 3
   },
   "file_extension": ".py",
   "mimetype": "text/x-python",
   "name": "python",
   "nbconvert_exporter": "python",
   "pygments_lexer": "ipython3",
   "version": "3.7.3"
  }
 },
 "nbformat": 4,
 "nbformat_minor": 1
}
